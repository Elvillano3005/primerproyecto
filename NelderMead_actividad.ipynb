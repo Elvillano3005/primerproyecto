{
  "cells": [
    {
      "cell_type": "markdown",
      "metadata": {
        "id": "view-in-github",
        "colab_type": "text"
      },
      "source": [
        "<a href=\"https://colab.research.google.com/github/Elvillano3005/primerproyecto/blob/main/NelderMead_actividad.ipynb\" target=\"_parent\"><img src=\"https://colab.research.google.com/assets/colab-badge.svg\" alt=\"Open In Colab\"/></a>"
      ]
    },
    {
      "cell_type": "code",
      "execution_count": null,
      "id": "ba5361b9-2523-40e1-8d95-1b1b83a8a84b",
      "metadata": {
        "id": "ba5361b9-2523-40e1-8d95-1b1b83a8a84b"
      },
      "outputs": [],
      "source": [
        "import math\n",
        "import numpy as np\n",
        "import matplotlib.pyplot as plt\n",
        "from mpl_toolkits.mplot3d import Axes3D"
      ]
    },
    {
      "cell_type": "markdown",
      "id": "5c98f6d8-592b-4d7c-89ac-4b509613f45d",
      "metadata": {
        "id": "5c98f6d8-592b-4d7c-89ac-4b509613f45d"
      },
      "source": [
        "## Función Rosenbrock\n",
        "\n",
        "## $f(\\vec{x}) = \\sum_{i=1}^{n-1}[ 100(x_{i+i} - x_i^2)^2+(1-x_i)^2]$"
      ]
    },
    {
      "cell_type": "code",
      "execution_count": null,
      "id": "30abb457-c7ae-480e-8bbd-341998f89145",
      "metadata": {
        "id": "30abb457-c7ae-480e-8bbd-341998f89145",
        "colab": {
          "base_uri": "https://localhost:8080/"
        },
        "collapsed": true,
        "outputId": "cca27d39-e62c-49d2-d116-3aeed2e4fedb"
      },
      "outputs": [
        {
          "output_type": "execute_result",
          "data": {
            "text/plain": [
              "np.int64(0)"
            ]
          },
          "metadata": {},
          "execution_count": 6
        }
      ],
      "source": [
        "def rosenbrock(x: np.ndarray) -> float:\n",
        "    return np.sum( 100*(x[1:]-x[:-1]**2)**2+(1-x[:-1])**2 )\n",
        "rosenbrock(np.array([1, 1]))"
      ]
    },
    {
      "cell_type": "markdown",
      "id": "5f6d2111-106b-429c-8d0b-2f17d9f4934d",
      "metadata": {
        "id": "5f6d2111-106b-429c-8d0b-2f17d9f4934d"
      },
      "source": [
        "## Funciones para hacer las gráficas en 3D y Contorno"
      ]
    },
    {
      "cell_type": "code",
      "execution_count": null,
      "id": "28796f0c-7ce0-4f73-a502-779bb40bac2f",
      "metadata": {
        "id": "28796f0c-7ce0-4f73-a502-779bb40bac2f"
      },
      "outputs": [],
      "source": [
        "def meshdata(x_min, x_max, y_min, y_max, function, n_puntos=200):\n",
        "    # Crear una malla de puntos para x e y\n",
        "    x_vals = np.linspace(x_min, x_max, n_puntos)\n",
        "    y_vals = np.linspace(y_min, y_max, n_puntos)\n",
        "    X, Y = np.meshgrid(x_vals, y_vals)\n",
        "\n",
        "    # Evaluar la función en la malla\n",
        "    Z = np.array([function(np.array([x, y])) for x, y in zip(np.ravel(X), np.ravel(Y))])\n",
        "    Z = Z.reshape(X.shape)\n",
        "    return X, Y, Z\n",
        "\n",
        "def plot3d(X, Y, Z):\n",
        "    # Crear la figura y los ejes 3D directamente\n",
        "    fig, ax = plt.subplots(subplot_kw={\"projection\": \"3d\"})\n",
        "\n",
        "    # Gráfico 3D\n",
        "    surface = ax.plot_surface(X, Y, Z, edgecolor='none', cmap='viridis')\n",
        "    ax.set_title('Función en 3D')\n",
        "    ax.set_xlabel('x')\n",
        "    ax.set_ylabel('y')\n",
        "    ax.set_zlabel('f(x, y)')\n",
        "\n",
        "    plt.tight_layout()\n",
        "\n",
        "    # Devolver fig y ax para poder modificar después\n",
        "    return fig, ax\n",
        "\n",
        "def plotContour(X, Y, Z):\n",
        "    # Crear la figura y los ejes directamente\n",
        "    fig, ax = plt.subplots()\n",
        "\n",
        "    # Gráfico de contorno\n",
        "    contour = ax.contourf(X, Y, Z, levels=10, cmap='viridis')\n",
        "    fig.colorbar(contour, ax=ax)\n",
        "    ax.set_title('Contornos de la función')\n",
        "    ax.set_xlabel('x')\n",
        "    ax.set_ylabel('y')\n",
        "\n",
        "    plt.tight_layout()\n",
        "\n",
        "    # Devolver fig y ax para poder añadir puntos después\n",
        "    return fig, ax"
      ]
    },
    {
      "cell_type": "code",
      "source": [
        "X, Y, Z = meshdata(-2, 2, -1, 3, rosenbrock)\n",
        "plot3d(X, Y, Z)\n",
        "plotContour(X, Y, Z)"
      ],
      "metadata": {
        "id": "v6t2iRpCr-rJ"
      },
      "id": "v6t2iRpCr-rJ",
      "execution_count": null,
      "outputs": []
    },
    {
      "cell_type": "markdown",
      "id": "bb7c365b-878e-45fb-bfa4-13f6ff4c3bbc",
      "metadata": {
        "id": "bb7c365b-878e-45fb-bfa4-13f6ff4c3bbc"
      },
      "source": [
        "## Creacion del Simplex"
      ]
    },
    {
      "cell_type": "code",
      "execution_count": null,
      "id": "f9112a82-4b30-4d12-93e4-f68983237d15",
      "metadata": {
        "id": "f9112a82-4b30-4d12-93e4-f68983237d15",
        "colab": {
          "base_uri": "https://localhost:8080/"
        },
        "outputId": "ac0c3f76-c344-4884-e0b5-6071ffa0e2d6"
      },
      "outputs": [
        {
          "output_type": "execute_result",
          "data": {
            "text/plain": [
              "array([[0.        , 0.        ],\n",
              "       [1.93185165, 0.51763809],\n",
              "       [0.51763809, 1.93185165]])"
            ]
          },
          "metadata": {},
          "execution_count": 8
        }
      ],
      "source": [
        "def createSimplex(x0: np.ndarray, alpha:float, N):\n",
        "    delta1 = ( (np.sqrt(N+1) + N - 1)/N*np.sqrt(2) )*alpha\n",
        "    delta2 = ( (np.sqrt(N+1) - 1)/N*np.sqrt(2) )*alpha\n",
        "\n",
        "    xn = [ np.array([x0[i]+delta1 if i==j else x0[i]+delta2 for i in range(0, N)]) for j in range(0, N) ]\n",
        "    xn.insert(0, x0)\n",
        "    return np.reshape(np.array(xn), (3, 2))\n",
        "\n",
        "createSimplex(np.array([0,0]),1, 2)\n"
      ]
    },
    {
      "cell_type": "markdown",
      "id": "7645117d-a523-4190-a6c9-c2dec18ea87b",
      "metadata": {
        "id": "7645117d-a523-4190-a6c9-c2dec18ea87b"
      },
      "source": [
        "## Centro, Reflexion, Expansion, Contraccion, Termino"
      ]
    },
    {
      "cell_type": "code",
      "execution_count": null,
      "id": "bf164efb-b289-451b-9dda-bab86e9daea2",
      "metadata": {
        "id": "bf164efb-b289-451b-9dda-bab86e9daea2"
      },
      "outputs": [],
      "source": [
        "centroide = lambda simplex, index_h, N: (np.sum(simplex, axis=0) - simplex[index_h])/N\n",
        "reflexion = lambda xc, xh: 2*xc - xh\n",
        "expansion = lambda xc, xh, gamma: (1+gamma)*xc - gamma*xh\n",
        "contraccion1 = lambda xc, xh, beta: (1-beta)*xc + beta*xh\n",
        "contraccion2 = lambda xc, xh, beta: (1+beta)*xc - beta*xh\n",
        "terminar = lambda fx, fc, N, epsilon=0.001: np.sqrt(np.sum((fx - fc)**2) / (N + 1)) < epsilon"
      ]
    },
    {
      "cell_type": "markdown",
      "id": "898bdd0d-5028-4310-ba90-8abbf99ead36",
      "metadata": {
        "id": "898bdd0d-5028-4310-ba90-8abbf99ead36"
      },
      "source": [
        "# Algoritmo Nelder-Mead (Simplex)"
      ]
    },
    {
      "cell_type": "code",
      "source": [
        "N = 2\n",
        "gamma = 1.2\n",
        "beta = 0.5\n",
        "epsilon = 0.001\n",
        "max_iter = 100\n",
        "\n",
        "# Punto inicial\n",
        "x0 = np.array([0, 0])\n",
        "simplex = createSimplex(x0, 1, N)\n",
        "\n",
        "# Almacena los caminos del mejor punto\n",
        "trayectoria = []\n",
        "\n",
        "\n",
        "for i in range(max_iter):\n",
        "    fx = [rosenbrock(x) for x in simplex]\n",
        "    indices = np.argsort(fx)\n",
        "    i_x1 = indices[0]\n",
        "    i_xh = indices[-1]\n",
        "    i_xg = indices[-2]\n",
        "\n",
        "    # Guardar mejor punto\n",
        "    trayectoria.append(simplex[i_x1])\n",
        "\n",
        "    # parada\n",
        "    if terminar(np.array(fx), fx[i_x1], N, epsilon):\n",
        "        break\n",
        "\n",
        "    # Calcular centroid\n",
        "    xc = centroide(simplex, i_xh, N)\n",
        "\n",
        "    # Reflejar\n",
        "    xr = reflexion(xc, simplex[i_xh])\n",
        "    fr = rosenbrock(xr)\n",
        "\n",
        "    if fr < fx[i_x1]:  # expansión\n",
        "        xe = expansion(xc, simplex[i_xh], gamma)\n",
        "        fe = rosenbrock(xe)\n",
        "        if fe < fr:\n",
        "            simplex[i_xh] = xe\n",
        "        else:\n",
        "            simplex[i_xh] = xr\n",
        "    elif fx[i_x1] <= fr < fx[i_xg]:  #  reflexión\n",
        "        simplex[i_xh] = xr\n",
        "    else:  #  contracción\n",
        "        if fr < fx[i_xh]:\n",
        "            xc1 = contraccion1(xc, simplex[i_xh], beta)\n",
        "            fc1 = rosenbrock(xc1)\n",
        "            if fc1 < fr:\n",
        "                simplex[i_xh] = xc1\n",
        "            else:\n",
        "                simplex[i_xh] = simplex[i_x1]  # Reducción\n",
        "        else:\n",
        "            xc2 = contraccion2(xc, simplex[i_xh], beta)\n",
        "            fc2 = rosenbrock(xc2)\n",
        "            if fc2 < fx[i_xh]:\n",
        "                simplex[i_xh] = xc2\n",
        "            else:\n",
        "                simplex[i_xh] = simplex[i_x1]  # Reducción\n",
        "\n",
        "# Visualizar contornos\n",
        "X, Y, Z = meshdata(-2, 2, -1, 3, rosenbrock)\n",
        "fig, ax = plotContour(X, Y, Z)\n",
        "\n",
        "# Mostrar puntos de la trayectoria\n",
        "trayectoria = np.array(trayectoria)\n",
        "ax.plot(trayectoria[:,0], trayectoria[:,1], color='red', marker='o', linestyle='--')\n",
        "ax.set_title('Trayectoria del punto mínimo (Nelder-Mead)')"
      ],
      "metadata": {
        "id": "ft2O33SfTSJa",
        "colab": {
          "base_uri": "https://localhost:8080/",
          "height": 505
        },
        "outputId": "0484451b-c447-47b1-9ab6-276b3ceeaa89"
      },
      "id": "ft2O33SfTSJa",
      "execution_count": null,
      "outputs": [
        {
          "output_type": "execute_result",
          "data": {
            "text/plain": [
              "Text(0.5, 1.0, 'Trayectoria del punto mínimo (Nelder-Mead)')"
            ]
          },
          "metadata": {},
          "execution_count": 15
        },
        {
          "output_type": "display_data",
          "data": {
            "text/plain": [
              "<Figure size 640x480 with 2 Axes>"
            ],
            "image/png": "[encoded data removed]"
          },
          "metadata": {}
        }
      ]
    }
  ],
  "metadata": {
    "kernelspec": {
      "display_name": "Python 3 (ipykernel)",
      "language": "python",
      "name": "python3"
    },
    "language_info": {
      "codemirror_mode": {
        "name": "ipython",
        "version": 3
      },
      "file_extension": ".py",
      "mimetype": "text/x-python",
      "name": "python",
      "nbconvert_exporter": "python",
      "pygments_lexer": "ipython3",
      "version": "3.11.6"
    },
    "colab": {
      "provenance": [],
      "include_colab_link": true
    }
  },
  "nbformat": 4,
  "nbformat_minor": 5
}